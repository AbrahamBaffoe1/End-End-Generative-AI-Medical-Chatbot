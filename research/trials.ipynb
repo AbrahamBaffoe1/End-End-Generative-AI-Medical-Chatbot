{
 "cells": [
  {
   "cell_type": "markdown",
   "metadata": {},
   "source": [
    "## Import libraries"
   ]
  },
  {
   "cell_type": "code",
   "execution_count": null,
   "metadata": {},
   "outputs": [],
   "source": [
    "!pip install langchain"
   ]
  },
  {
   "cell_type": "code",
   "execution_count": null,
   "metadata": {},
   "outputs": [],
   "source": [
    "!pip install -U pypdf\n",
    "!pip install -U pypdf2\n",
    "!pip install -U langchain\n",
    "!pip install -U langchain-experimental\n",
    "!pip install -U langchain-community\n",
    "!pip install -U langchain-pinecone\n",
    "!pip install -U sentence-transformers\n",
    "!pip install -U pinecone-client\n",
    "!pip install -U openai\n",
    "!pip install -U pandas\n",
    "!pip install -U numpy\n",
    "!pip install -U scikit-learn\n",
    "!pip install -U matplotlib\n",
    "!pip install -U seaborn\n",
    "!pip install -U gunicorn\n",
    "!pip install -U python-dotenv\n",
    "!pip install -U flask-cors\n",
    "!pip install -U requests\n",
    "!pip install -U openai\n",
    "!pip install -U python-dotenv\n",
    "!pip install -U flask-cors\n",
    "!pip install -U requests\n",
    "\n",
    "from langchain.document_loaders import PyPDFLoader, DirectoryLoader\n",
    "from langchain.text_splitter import RecursiveCharacterTextSplitter\n"
   ]
  },
  {
   "cell_type": "markdown",
   "metadata": {},
   "source": [
    "## Let extract the data from the pdf file using fucntions"
   ]
  },
  {
   "cell_type": "code",
   "execution_count": 4,
   "metadata": {},
   "outputs": [],
   "source": [
    "\n",
    "def load_data(data):\n",
    "    loader = DirectoryLoader(data,\n",
    "                            glob='*.pdf',\n",
    "                            loader_cls=PyPDFLoader)\n",
    "    documents = loader.load()\n",
    "    text_splitter = RecursiveCharacterTextSplitter(chunk_size=1000, chunk_overlap=200)\n",
    "    docs = text_splitter.split_documents(documents)\n",
    "    return docs"
   ]
  },
  {
   "cell_type": "markdown",
   "metadata": {},
   "source": [
    "# Extract the content from the pdf file"
   ]
  },
  {
   "cell_type": "code",
   "execution_count": null,
   "metadata": {},
   "outputs": [],
   "source": [
    "\n",
    "\n",
    "extracted_data = load_data(data='/Users/kwamebaffoe/Desktop/End-End-Generative-AI-Medical-Chatbot/Data')"
   ]
  },
  {
   "cell_type": "code",
   "execution_count": 70,
   "metadata": {},
   "outputs": [],
   "source": [
    "# extracted_data\n",
    "\n",
    "# Let Split the data into chunks using fucntions\n",
    "def split_data(extracted_data):\n",
    "    text_splitter = RecursiveCharacterTextSplitter(chunk_size=1000, chunk_overlap=200)\n",
    "    text_chunks = text_splitter.split_documents(extracted_data)\n",
    "    return text_chunks\n"
   ]
  },
  {
   "cell_type": "code",
   "execution_count": null,
   "metadata": {},
   "outputs": [],
   "source": [
    "text_chunks = split_data(extracted_data)\n",
    "print(len(text_chunks))"
   ]
  },
  {
   "cell_type": "markdown",
   "metadata": {},
   "source": [
    "# Let download the embeddings from Huggingface"
   ]
  },
  {
   "cell_type": "code",
   "execution_count": 74,
   "metadata": {},
   "outputs": [],
   "source": [
    "\n",
    "from langchain.embeddings import HuggingFaceEmbeddings"
   ]
  },
  {
   "cell_type": "code",
   "execution_count": 6,
   "metadata": {},
   "outputs": [],
   "source": [
    "from langchain.embeddings import HuggingFaceEmbeddings  \n",
    "\n",
    "def download_huggingface_embeddings():\n",
    "    embeddings = HuggingFaceEmbeddings(model_name=\"sentence-transformers/all-MiniLM-L6-v2\")\n",
    "    return embeddings"
   ]
  },
  {
   "cell_type": "code",
   "execution_count": null,
   "metadata": {},
   "outputs": [],
   "source": [
    "# !pip install sentence-transformers\n",
    "embeddings = download_huggingface_embeddings()\n"
   ]
  },
  {
   "cell_type": "markdown",
   "metadata": {},
   "source": [
    "#  Let's convert to Vector Embeddings "
   ]
  },
  {
   "cell_type": "code",
   "execution_count": 8,
   "metadata": {},
   "outputs": [],
   "source": [
    "from langchain.embeddings import HuggingFaceEmbeddings  # Ensure you import this\n",
    "\n",
    "def download_huggingface_embeddings():\n",
    "    embeddings = HuggingFaceEmbeddings(model_name=\"sentence-transformers/all-MiniLM-L6-v2\")\n",
    "    return embeddings\n",
    "\n",
    "# Call the function to get the embeddings\n",
    "embeddings = download_huggingface_embeddings()"
   ]
  },
  {
   "cell_type": "code",
   "execution_count": null,
   "metadata": {},
   "outputs": [],
   "source": [
    "# TEST CODES\n",
    "\n",
    "from sentence_transformers import SentenceTransformer\n",
    "from huggingface_hub import cached_download\n",
    "\n",
    "model = SentenceTransformer(\"sentence-transformers/all-MiniLM-L6-v2\")\n",
    "print(\"Model loaded successfully!\")\n"
   ]
  },
  {
   "cell_type": "code",
   "execution_count": null,
   "metadata": {},
   "outputs": [],
   "source": [
    "# Now you can use the embeddings to embed the query\n",
    "# !pip install sentence-transformers\n",
    "import sentence_transformers\n",
    "\n",
    "query_output = embeddings.embed_query(\"What is a heart attack?\")\n",
    "print(\"Length of query output: \", len(query_output))"
   ]
  },
  {
   "cell_type": "code",
   "execution_count": null,
   "metadata": {},
   "outputs": [],
   "source": [
    "# query_output\n",
    "\n",
    "# !pip install google\n",
    "# !pip install \"sentence-transformers>=3.0.0\"\n",
    "# !pip install sentence-transformers\n",
    "# !pip install \"torch>=1.11.0\"\n",
    "\n",
    "# !pip install torch==1.11.0\n",
    "# !pip install sentence-transformers\n",
    "\n",
    "# Example: Install torch with a specified CUDA or CPU version\n",
    "# !pip install torch==1.11.0+cpu -f https://download.pytorch.org/whl/cpu/torch_stable.html\n",
    "\n",
    "\n",
    "# from sentence_transformers import SentenceTransformer\n",
    "# from huggingface_hub import cached_download\n",
    "\n",
    "# !pip install sentence-transformers==2.2.2 huggingface-hub==0.12.0\n"
   ]
  },
  {
   "cell_type": "markdown",
   "metadata": {},
   "source": [
    "# Creating Index with Pinecone Using Code Approach\n"
   ]
  },
  {
   "cell_type": "code",
   "execution_count": null,
   "metadata": {},
   "outputs": [],
   "source": [
    "from dotenv import load_dotenv\n",
    "\n",
    "load_dotenv()"
   ]
  },
  {
   "cell_type": "code",
   "execution_count": 12,
   "metadata": {},
   "outputs": [],
   "source": [
    "import os\n",
    "PINECONE_API_KEY = os.environ.get(\"PINECONE_API_KEY\")"
   ]
  },
  {
   "cell_type": "code",
   "execution_count": null,
   "metadata": {},
   "outputs": [],
   "source": [
    "from pinecone.grpc import PineconeGRPC as Pinecone\n",
    "from pinecone import SeverlessSpec\n",
    "import os\n",
    "\n",
    "\n",
    "#  Initialize Pinecone\n",
    "pc = Pinecone(api_key=\"PINECONE_API_KEY\"),\n",
    "        \n",
    "index = \"einseinnmedicalchatbot\"\n",
    "\n",
    "pc.create_index(name=\"index_name\",\n",
    "                dimension=384,\n",
    "                metric=\"cosine\",\n",
    "                spec=SeverlessSpec(),\n",
    "                cloud=\"aws\", \n",
    "                region=\"us-east-1\",\n",
    "            )"
   ]
  },
  {
   "cell_type": "markdown",
   "metadata": {},
   "source": [
    "## Let create the Index with Python Codes in Simple Way\n"
   ]
  },
  {
   "cell_type": "code",
   "execution_count": null,
   "metadata": {},
   "outputs": [],
   "source": [
    "from pinecone import Pinecone, ServerlessSpec\n",
    "\n",
    "pc = Pinecone(api_key=\"pcsk_2jGdBi_RFTHxF67eEHmau3ecngztXbgM8EGVQ1et1SMAJtom2t99yvUUZTWtRYGYAT4Gpd\")\n",
    "\n",
    "index_name = \"einseinnmedicalchatbot\"\n",
    "\n",
    "\n",
    "pc.create_index(\n",
    "    name=index_name,\n",
    "    dimension=384, \n",
    "    metric=\"cosine\",\n",
    "    spec=ServerlessSpec(\n",
    "        cloud=\"aws\",\n",
    "        region=\"us-east-1\"\n",
    "    ) \n",
    ")\n",
    "\n",
    "# !pip install --upgrade pinecone-client\n"
   ]
  },
  {
   "cell_type": "markdown",
   "metadata": {},
   "source": [
    "## CONVERT THE CHUNKS INTO VECTORS EMBEDDINGS"
   ]
  },
  {
   "cell_type": "code",
   "execution_count": 26,
   "metadata": {},
   "outputs": [],
   "source": [
    "import os\n",
    "from dotenv import load_dotenv\n",
    "\n",
    "load_dotenv()\n",
    "\n",
    "PINECONE_API_KEY = os.getenv(\"PINECONE_API_KEY\")\n",
    "\n",
    "OPENAI_API_KEY = os.environ.get(\"PINECONE_API_KEY\")"
   ]
  },
  {
   "cell_type": "code",
   "execution_count": 15,
   "metadata": {},
   "outputs": [],
   "source": [
    "os.environ[\"PINECONE_API_KEY\"] = PINECONE_API_KEY"
   ]
  },
  {
   "cell_type": "code",
   "execution_count": null,
   "metadata": {},
   "outputs": [],
   "source": [
    "from langchain.vectorstores import Pinecone\n",
    "\n",
    "docs_searching = Pinecone.from_documents(\n",
    "    documents=text_chunks,\n",
    "    embedding=embeddings,\n",
    "    index_name=\"einseinnmedicalchatbot\"  # Note: this should be a string\n",
    ")"
   ]
  },
  {
   "cell_type": "markdown",
   "metadata": {},
   "source": [
    "## Let load an exisiting Index "
   ]
  },
  {
   "cell_type": "code",
   "execution_count": 17,
   "metadata": {},
   "outputs": [],
   "source": [
    "from langchain.vectorstores import Pinecone\n",
    "\n",
    "docs_searching = Pinecone.from_existing_index(\n",
    "    embedding=embeddings,\n",
    "    index_name=\"einseinnmedicalchatbot\",\n",
    ")"
   ]
  },
  {
   "cell_type": "code",
   "execution_count": null,
   "metadata": {},
   "outputs": [],
   "source": [
    "docs_searching"
   ]
  },
  {
   "cell_type": "code",
   "execution_count": null,
   "metadata": {},
   "outputs": [],
   "source": [
    "docs_searching.similarity_search(\"What is a heart attack?\", k=2)"
   ]
  },
  {
   "cell_type": "code",
   "execution_count": null,
   "metadata": {},
   "outputs": [],
   "source": [
    "retrieved_docs = docs_searching.similarity_search(\"What is a heart attack?\", k=2)\n",
    "retrieved_docs"
   ]
  },
  {
   "cell_type": "code",
   "execution_count": 22,
   "metadata": {},
   "outputs": [],
   "source": [
    "retriever = docs_searching.as_retriever(search_type=\"similarity\", search_kwargs={\"k\": 3})"
   ]
  },
  {
   "cell_type": "code",
   "execution_count": 23,
   "metadata": {},
   "outputs": [],
   "source": [
    "retriever_docs = retriever.invoke( \"What is an Acne?\")"
   ]
  },
  {
   "cell_type": "code",
   "execution_count": null,
   "metadata": {},
   "outputs": [],
   "source": [
    "retriever_docs"
   ]
  },
  {
   "cell_type": "markdown",
   "metadata": {},
   "source": [
    "## Let make Sure the Query Goes to the Knowledge Base Model before it goes to the LLM"
   ]
  },
  {
   "cell_type": "code",
   "execution_count": 29,
   "metadata": {},
   "outputs": [],
   "source": [
    "# using OpenAI LLM model for this\n",
    "from langchain_openai import OpenAI\n",
    "\n",
    "llm = OpenAI(temperature=0.4, max_tokens=500)\n"
   ]
  },
  {
   "cell_type": "code",
   "execution_count": 46,
   "metadata": {},
   "outputs": [],
   "source": [
    "from langchain.chains import create_retrieval_chain\n",
    "from langchain.chains.combine_documents import create_stuff_documents_chain\n",
    "from langchain_core.prompts import ChatPromptTemplate\n",
    "\n",
    "prompt_template = ChatPromptTemplate.from_messages([\n",
    "    (\"system\", \n",
    "     \"You are a helpful assistant for question and answering task about medicine. \"\n",
    "     \"Use the following pieces of retrieved context to answer the question. \"\n",
    "     \"Say No to questions that are not about medicine. \"\n",
    "     \"If you don't know the answer, just say that you don't know, don't try to make up an answer. \"\n",
    "     \"Use three sentences maximum and keep the answer as short as possible.\\n\\n\"\n",
    "     \"{context}\"\n",
    "    ),\n",
    "    (\"human\", \"{input}\")\n",
    "])\n",
    "\n"
   ]
  },
  {
   "cell_type": "code",
   "execution_count": 60,
   "metadata": {},
   "outputs": [],
   "source": [
    "question_and_answer = create_stuff_documents_chain(\n",
    "    llm=llm,\n",
    "    prompt=prompt_template\n",
    ")\n",
    "rag_chain = create_retrieval_chain(\n",
    "    retriever,\n",
    "    question_and_answer\n",
    ")"
   ]
  },
  {
   "cell_type": "code",
   "execution_count": null,
   "metadata": {},
   "outputs": [],
   "source": [
    "response = rag_chain.invoke({\"question\": \"What is acne?\"})\n",
    "print(response[\"answer\"])\n"
   ]
  },
  {
   "cell_type": "code",
   "execution_count": 54,
   "metadata": {},
   "outputs": [],
   "source": [
    "# Create the document chain\n",
    "document_chain = create_stuff_documents_chain(\n",
    "    llm=llm,\n",
    "    prompt=prompt_template\n",
    ")\n",
    "\n",
    "# Create the retrieval chain\n",
    "retrieval_chain = create_retrieval_chain(\n",
    "    retriever=retriever,\n",
    "    combine_docs_chain=document_chain\n",
    ")"
   ]
  },
  {
   "cell_type": "markdown",
   "metadata": {},
   "source": [
    "## Alternative Way"
   ]
  },
  {
   "cell_type": "code",
   "execution_count": null,
   "metadata": {},
   "outputs": [],
   "source": [
    "from langchain.chains import create_retrieval_chain\n",
    "from langchain.chains.combine_documents import create_stuff_documents_chain\n",
    "from langchain_core.prompts import ChatPromptTemplate\n",
    "\n",
    "# Create the prompt template\n",
    "prompt = ChatPromptTemplate.from_messages([\n",
    "    (\"system\", \n",
    "     \"You are a helpful assistant for question and answering tasks about medicine. \"\n",
    "     \"Use the following pieces of retrieved context to answer the question. \"\n",
    "     \"If you don't know the answer, just say that you don't know.\\n\\n\"\n",
    "     \"Context: {context}\\n\"\n",
    "    ),\n",
    "    (\"human\", \"{input}\")\n",
    "])\n",
    "\n",
    "# Create the document chain\n",
    "document_chain = create_stuff_documents_chain(\n",
    "    llm,\n",
    "    prompt\n",
    ")\n",
    "\n",
    "# Create the retrieval chain\n",
    "rag_chain = create_retrieval_chain(\n",
    "    retriever,\n",
    "    document_chain\n",
    ")\n",
    "\n",
    "# Test the chain\n",
    "response = rag_chain.invoke({\"input\": \"What is acne?\"})\n",
    "print(response[\"answer\"])"
   ]
  },
  {
   "cell_type": "markdown",
   "metadata": {},
   "source": [
    "## Let Create a ChatBot Using LangChain \n",
    "\n",
    "\n",
    "\n"
   ]
  }
 ],
 "metadata": {
  "kernelspec": {
   "display_name": "einstienMed",
   "language": "python",
   "name": "python3"
  },
  "language_info": {
   "codemirror_mode": {
    "name": "ipython",
    "version": 3
   },
   "file_extension": ".py",
   "mimetype": "text/x-python",
   "name": "python",
   "nbconvert_exporter": "python",
   "pygments_lexer": "ipython3",
   "version": "3.10.16"
  }
 },
 "nbformat": 4,
 "nbformat_minor": 2
}
